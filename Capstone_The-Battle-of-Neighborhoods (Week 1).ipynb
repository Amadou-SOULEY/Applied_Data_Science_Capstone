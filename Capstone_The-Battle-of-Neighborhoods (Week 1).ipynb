{
    "nbformat_minor": 1, 
    "cells": [
        {
            "source": "# Capstone Project - The Battle of Neighborhoods (Week 1)\n\n#### Dakar Neighborhood", 
            "cell_type": "markdown", 
            "metadata": {
                "collapsed": true
            }
        }, 
        {
            "source": "\n## A. INTRODUCTION", 
            "cell_type": "markdown", 
            "metadata": {}
        }, 
        {
            "source": "### A.1. Description & Disscusion of the Background", 
            "cell_type": "markdown", 
            "metadata": {}
        }, 
        {
            "source": "   The city of Dakar (***in Wolof: Ndakaaru***) is the capital of the Republic of Senegal and the Dakar region. It has ***1,363,444 inhabitants*** out of a total ***population of 3,732,284*** (2019 estimate) in the Dakar region as a whole. It is one of Senegal's four historic municipalities and the former capital of French West Africa (AOF). Under the dual influence of migration flows from the countryside and natural increase, the Dakar region has developed very rapidly. It has thus increased from ***400,000 inhabitants in 1970 to 3.6 million inhabitants in 2018, an increase of nearly 5% per year***. \nOccupying only 0.28% of the national territory, the Dakar region covers 550 km2, 25% of the population and concentrates 80% of the country's economic activities.\n\nAs part of its activities, ***the National Agency for Statistics and Demography (ANSD \u2013 Dakar)*** has published its estimates of Senegal's population by ***2025***. When a municipality sees its population increase, should it be considered, a priori, as an advantage or a disadvantage? Whatever the cause, the decrease in the population of a municipality very generally has financial consequences in terms of budget. On the one hand, the financial allocations paid by the State, which are based in particular on the number of inhabitants, are expected to decrease. \n\nIndeed, when you think about it, demographics have an impact on pension and health insurance. In addition for the bourgeois class you expect them to prefer the chic neighborhoods but also the less populated districts. At the same time, they may want to choose neighborhoods based on the density of social places. This can also be the choice of large companies that want to set up in the city. The target audience and who would care about these problems are specially ***the authorities of each neighborhood, the United Nations*** but also ***the Insurers, investors*** as well as the ***principales players in the economy***.However, it is difficult today to obtain information that can guide them in this direction.\n\nTo address these business issues we will present the current demographics as well as its projection for 2025 by gender for each neighborhood of this city. In order to know the popularity of each borough, we will analyze the venues of Dakar city. We will create a map and information chart where the real percentage by sex is placed on Dakar city and each neighborhood is clustered according to the venue density.\n", 
            "cell_type": "markdown", 
            "metadata": {}
        }, 
        {
            "execution_count": null, 
            "cell_type": "code", 
            "metadata": {}, 
            "outputs": [], 
            "source": ""
        }
    ], 
    "metadata": {
        "kernelspec": {
            "display_name": "Python 3.5", 
            "name": "python3", 
            "language": "python"
        }, 
        "language_info": {
            "mimetype": "text/x-python", 
            "nbconvert_exporter": "python", 
            "version": "3.5.5", 
            "name": "python", 
            "file_extension": ".py", 
            "pygments_lexer": "ipython3", 
            "codemirror_mode": {
                "version": 3, 
                "name": "ipython"
            }
        }
    }, 
    "nbformat": 4
}