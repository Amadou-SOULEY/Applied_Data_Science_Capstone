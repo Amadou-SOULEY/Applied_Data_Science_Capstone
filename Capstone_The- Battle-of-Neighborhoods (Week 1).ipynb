{
    "nbformat_minor": 1, 
    "cells": [
        {
            "source": "# Capstone Project - The Battle of Neighborhoods (Week 1)\n\n#### Dakar Neighborhood\n\n## 2. Data Description", 
            "cell_type": "markdown", 
            "metadata": {
                "collapsed": true
            }
        }, 
        {
            "source": "To examine the problem, we can list the data as follows:\n    \n- For the Dakar neighborhood data, a Wikipedia page exists that has all the information we need to explore and cluster the neighborhoods of Dakar. I required to scrape the       \n\n   Wikipedia page and wrangle the data, clean it, and then read it into a pandas dataframe so that it is in a structured format.\n\n-  On the website of the National Agency for Statistics and Demography ANSD, for each district municipality of the city I had to retrieve the demographic projections by sex and \n\n   year.\n\n- I used Google Map, \u2018Search Nearby\u2019 option to get the center coordinates of the each Neighborhood.\n\n- I used Forsquare API to get the most common venues of given Neighborhood of Dakar city.\n", 
            "cell_type": "markdown", 
            "metadata": {}
        }, 
        {
            "execution_count": null, 
            "cell_type": "code", 
            "metadata": {}, 
            "outputs": [], 
            "source": ""
        }
    ], 
    "metadata": {
        "kernelspec": {
            "display_name": "Python 3.5", 
            "name": "python3", 
            "language": "python"
        }, 
        "language_info": {
            "mimetype": "text/x-python", 
            "nbconvert_exporter": "python", 
            "version": "3.5.5", 
            "name": "python", 
            "file_extension": ".py", 
            "pygments_lexer": "ipython3", 
            "codemirror_mode": {
                "version": 3, 
                "name": "ipython"
            }
        }
    }, 
    "nbformat": 4
}