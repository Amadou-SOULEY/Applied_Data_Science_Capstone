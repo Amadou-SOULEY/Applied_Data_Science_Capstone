{
    "nbformat_minor": 1, 
    "cells": [
        {
            "source": "# Capstone Project - The Battle of Neighborhoods (Week 1)\n\n#### Dakar Neighborhood\n\n## INTRODUCTION\n\n## A.2. Data Description", 
            "cell_type": "markdown", 
            "metadata": {
                "collapsed": true
            }
        }, 
        {
            "source": "To examine the problem, we can list the data as follows:\n    \n- To have the Dakar Neighborhood Data the following features will be extracted: ***Borough, Neighborhood,Men_2019, Women_2019, Men_2025, Women_2025(Name_year contain the number of   population by sex and year and these 2025 population projection) and the geospatial coordinates latitude and Longitude***.\n\n-  For the features Borough, Neighborhood, I required to scrape the Wikipedia page and wrangle the data, clean it, and then read it into a pandas dataframe so that it is in a structured format.On the website of ***the National Agency for Statistics and Demography ANSD***, for each neighborhood of the city,I had to retrieve the demographic projections by sex and year and its ***2025 projection***.\n\n-  I used ***Google Map, \u2018Search Nearby\u2019*** option to get the geospatial coordinates latitude and Longitude of each Neighborhood. Coordinate of Dakar Center will be obtained by using ***Goog Maps API geocoding*** of well known location.\n\n-  I used ***Forsquare API*** to get the most common venues of given Neighborhood of Dakar city.\n\n- Finally we will explore and cluster the neighborhoods of Dakar.\n", 
            "cell_type": "markdown", 
            "metadata": {}
        }, 
        {
            "execution_count": null, 
            "cell_type": "code", 
            "metadata": {}, 
            "outputs": [], 
            "source": ""
        }
    ], 
    "metadata": {
        "kernelspec": {
            "display_name": "Python 3.5", 
            "name": "python3", 
            "language": "python"
        }, 
        "language_info": {
            "mimetype": "text/x-python", 
            "nbconvert_exporter": "python", 
            "version": "3.5.5", 
            "name": "python", 
            "file_extension": ".py", 
            "pygments_lexer": "ipython3", 
            "codemirror_mode": {
                "version": 3, 
                "name": "ipython"
            }
        }
    }, 
    "nbformat": 4
}